{
 "cells": [
  {
   "cell_type": "code",
   "execution_count": 1,
   "metadata": {},
   "outputs": [],
   "source": [
    "import pandas as pd\n",
    "import matplotlib.pyplot as plt\n",
    "\n",
    "df = pd.read_excel('data/coil_stat.xlsx')\n",
    "rects_teeth = df.loc[df['file'].str.match('VEXPN2')]\n",
    "rects_teeth = rects_teeth[rects_teeth['mod'] != 't']\n",
    "\n",
    "%matplotlib inline"
   ]
  },
  {
   "cell_type": "code",
   "execution_count": 2,
   "metadata": {},
   "outputs": [],
   "source": [
    "wire = 0.08\n",
    "rt008 = rects_teeth.loc[rects_teeth['wire_dia (mm)'] == wire]\n",
    "rt008 = rt008.sort_values(['mod'])\n",
    "rt008['teeth'] = rt008['mod'].str[-1].apply(int)\n",
    "rt008 = rt008[['file', 'wire_len (cm)', 'wire_dia (mm)', 'L, uH', 'teeth']]"
   ]
  },
  {
   "cell_type": "code",
   "execution_count": 3,
   "metadata": {},
   "outputs": [
    {
     "data": {
      "text/html": [
       "<div>\n",
       "<style scoped>\n",
       "    .dataframe tbody tr th:only-of-type {\n",
       "        vertical-align: middle;\n",
       "    }\n",
       "\n",
       "    .dataframe tbody tr th {\n",
       "        vertical-align: top;\n",
       "    }\n",
       "\n",
       "    .dataframe thead th {\n",
       "        text-align: right;\n",
       "    }\n",
       "</style>\n",
       "<table border=\"1\" class=\"dataframe\">\n",
       "  <thead>\n",
       "    <tr style=\"text-align: right;\">\n",
       "      <th></th>\n",
       "      <th>file</th>\n",
       "      <th>wire_len (cm)</th>\n",
       "      <th>wire_dia (mm)</th>\n",
       "      <th>L, uH</th>\n",
       "      <th>teeth</th>\n",
       "    </tr>\n",
       "  </thead>\n",
       "  <tbody>\n",
       "    <tr>\n",
       "      <th>198</th>\n",
       "      <td>VEXPN2_1</td>\n",
       "      <td>107.248</td>\n",
       "      <td>0.08</td>\n",
       "      <td>4.104</td>\n",
       "      <td>1</td>\n",
       "    </tr>\n",
       "    <tr>\n",
       "      <th>200</th>\n",
       "      <td>VEXPN2_2</td>\n",
       "      <td>109.237</td>\n",
       "      <td>0.08</td>\n",
       "      <td>4.046</td>\n",
       "      <td>2</td>\n",
       "    </tr>\n",
       "    <tr>\n",
       "      <th>203</th>\n",
       "      <td>VEXPN2_3</td>\n",
       "      <td>111.225</td>\n",
       "      <td>0.08</td>\n",
       "      <td>4.083</td>\n",
       "      <td>3</td>\n",
       "    </tr>\n",
       "    <tr>\n",
       "      <th>205</th>\n",
       "      <td>VEXPN2_4</td>\n",
       "      <td>113.213</td>\n",
       "      <td>0.08</td>\n",
       "      <td>4.042</td>\n",
       "      <td>4</td>\n",
       "    </tr>\n",
       "    <tr>\n",
       "      <th>207</th>\n",
       "      <td>VEXPN2_5</td>\n",
       "      <td>115.202</td>\n",
       "      <td>0.08</td>\n",
       "      <td>4.106</td>\n",
       "      <td>5</td>\n",
       "    </tr>\n",
       "    <tr>\n",
       "      <th>209</th>\n",
       "      <td>VEXPN2_6</td>\n",
       "      <td>117.190</td>\n",
       "      <td>0.08</td>\n",
       "      <td>4.085</td>\n",
       "      <td>6</td>\n",
       "    </tr>\n",
       "    <tr>\n",
       "      <th>211</th>\n",
       "      <td>VEXPN2_7</td>\n",
       "      <td>119.178</td>\n",
       "      <td>0.08</td>\n",
       "      <td>4.122</td>\n",
       "      <td>7</td>\n",
       "    </tr>\n",
       "    <tr>\n",
       "      <th>196</th>\n",
       "      <td>VEXPN2</td>\n",
       "      <td>121.041</td>\n",
       "      <td>0.08</td>\n",
       "      <td>3.538</td>\n",
       "      <td>8</td>\n",
       "    </tr>\n",
       "  </tbody>\n",
       "</table>\n",
       "</div>"
      ],
      "text/plain": [
       "         file  wire_len (cm)  wire_dia (mm)  L, uH  teeth\n",
       "198  VEXPN2_1        107.248           0.08  4.104      1\n",
       "200  VEXPN2_2        109.237           0.08  4.046      2\n",
       "203  VEXPN2_3        111.225           0.08  4.083      3\n",
       "205  VEXPN2_4        113.213           0.08  4.042      4\n",
       "207  VEXPN2_5        115.202           0.08  4.106      5\n",
       "209  VEXPN2_6        117.190           0.08  4.085      6\n",
       "211  VEXPN2_7        119.178           0.08  4.122      7\n",
       "196    VEXPN2        121.041           0.08  3.538      8"
      ]
     },
     "execution_count": 3,
     "metadata": {},
     "output_type": "execute_result"
    },
    {
     "data": {
      "image/png": "[encoded data removed]",
      "text/plain": [
       "<Figure size 432x288 with 1 Axes>"
      ]
     },
     "metadata": {
      "needs_background": "light"
     },
     "output_type": "display_data"
    }
   ],
   "source": [
    "ax = rt008.plot(x='teeth', y='L, uH', title=f'проводник={wire} мм, шаг=0.3 мм')\n",
    "ax.grid(linestyle='--')\n",
    "ax.set_xlim(0, 9)\n",
    "ax.set_ylim(0, 25)\n",
    "ax.set_ylabel('Индуктивность, мкГн')\n",
    "ax.set_xlabel('Кол-во зубцов')\n",
    "rt008"
   ]
  },
  {
   "cell_type": "code",
   "execution_count": 4,
   "metadata": {},
   "outputs": [],
   "source": [
    "wire = 0.1\n",
    "rt01 = rects_teeth.loc[rects_teeth['wire_dia (mm)'] == wire]\n",
    "rt01 = rt01.sort_values(['mod'])\n",
    "rt01['teeth'] = rt01['mod'].str[-1].apply(int)\n",
    "rt01 = rt01[['file', 'wire_len (cm)', 'wire_dia (mm)', 'L, uH', 'teeth']]"
   ]
  },
  {
   "cell_type": "code",
   "execution_count": 5,
   "metadata": {},
   "outputs": [
    {
     "data": {
      "text/html": [
       "<div>\n",
       "<style scoped>\n",
       "    .dataframe tbody tr th:only-of-type {\n",
       "        vertical-align: middle;\n",
       "    }\n",
       "\n",
       "    .dataframe tbody tr th {\n",
       "        vertical-align: top;\n",
       "    }\n",
       "\n",
       "    .dataframe thead th {\n",
       "        text-align: right;\n",
       "    }\n",
       "</style>\n",
       "<table border=\"1\" class=\"dataframe\">\n",
       "  <thead>\n",
       "    <tr style=\"text-align: right;\">\n",
       "      <th></th>\n",
       "      <th>file</th>\n",
       "      <th>wire_len (cm)</th>\n",
       "      <th>wire_dia (mm)</th>\n",
       "      <th>L, uH</th>\n",
       "      <th>teeth</th>\n",
       "    </tr>\n",
       "  </thead>\n",
       "  <tbody>\n",
       "    <tr>\n",
       "      <th>199</th>\n",
       "      <td>VEXPN2_1</td>\n",
       "      <td>107.248</td>\n",
       "      <td>0.1</td>\n",
       "      <td>4.065</td>\n",
       "      <td>1</td>\n",
       "    </tr>\n",
       "    <tr>\n",
       "      <th>201</th>\n",
       "      <td>VEXPN2_2</td>\n",
       "      <td>109.237</td>\n",
       "      <td>0.1</td>\n",
       "      <td>3.360</td>\n",
       "      <td>2</td>\n",
       "    </tr>\n",
       "    <tr>\n",
       "      <th>204</th>\n",
       "      <td>VEXPN2_3</td>\n",
       "      <td>111.225</td>\n",
       "      <td>0.1</td>\n",
       "      <td>4.071</td>\n",
       "      <td>3</td>\n",
       "    </tr>\n",
       "    <tr>\n",
       "      <th>206</th>\n",
       "      <td>VEXPN2_4</td>\n",
       "      <td>113.213</td>\n",
       "      <td>0.1</td>\n",
       "      <td>3.982</td>\n",
       "      <td>4</td>\n",
       "    </tr>\n",
       "    <tr>\n",
       "      <th>208</th>\n",
       "      <td>VEXPN2_5</td>\n",
       "      <td>115.202</td>\n",
       "      <td>0.1</td>\n",
       "      <td>4.116</td>\n",
       "      <td>5</td>\n",
       "    </tr>\n",
       "    <tr>\n",
       "      <th>210</th>\n",
       "      <td>VEXPN2_6</td>\n",
       "      <td>117.190</td>\n",
       "      <td>0.1</td>\n",
       "      <td>3.932</td>\n",
       "      <td>6</td>\n",
       "    </tr>\n",
       "    <tr>\n",
       "      <th>212</th>\n",
       "      <td>VEXPN2_7</td>\n",
       "      <td>119.178</td>\n",
       "      <td>0.1</td>\n",
       "      <td>4.061</td>\n",
       "      <td>7</td>\n",
       "    </tr>\n",
       "    <tr>\n",
       "      <th>197</th>\n",
       "      <td>VEXPN2</td>\n",
       "      <td>121.041</td>\n",
       "      <td>0.1</td>\n",
       "      <td>3.911</td>\n",
       "      <td>8</td>\n",
       "    </tr>\n",
       "  </tbody>\n",
       "</table>\n",
       "</div>"
      ],
      "text/plain": [
       "         file  wire_len (cm)  wire_dia (mm)  L, uH  teeth\n",
       "199  VEXPN2_1        107.248            0.1  4.065      1\n",
       "201  VEXPN2_2        109.237            0.1  3.360      2\n",
       "204  VEXPN2_3        111.225            0.1  4.071      3\n",
       "206  VEXPN2_4        113.213            0.1  3.982      4\n",
       "208  VEXPN2_5        115.202            0.1  4.116      5\n",
       "210  VEXPN2_6        117.190            0.1  3.932      6\n",
       "212  VEXPN2_7        119.178            0.1  4.061      7\n",
       "197    VEXPN2        121.041            0.1  3.911      8"
      ]
     },
     "execution_count": 5,
     "metadata": {},
     "output_type": "execute_result"
    },
    {
     "data": {
      "image/png": "[encoded data removed]",
      "text/plain": [
       "<Figure size 432x288 with 1 Axes>"
      ]
     },
     "metadata": {
      "needs_background": "light"
     },
     "output_type": "display_data"
    }
   ],
   "source": [
    "ax = rt01.plot(x='teeth', y='L, uH', title=f'проводник={wire} мм, шаг=0.3 мм')\n",
    "ax.grid(linestyle='--')\n",
    "ax.set_xlim(0, 9)\n",
    "ax.set_ylim(0, 25)\n",
    "ax.set_ylabel('Индуктивность, мкГн')\n",
    "ax.set_xlabel('Кол-во зубцов')\n",
    "rt01"
   ]
  },
  {
   "cell_type": "code",
   "execution_count": null,
   "metadata": {},
   "outputs": [],
   "source": []
  }
 ],
 "metadata": {
  "kernelspec": {
   "display_name": "Python 3",
   "language": "python",
   "name": "python3"
  },
  "language_info": {
   "codemirror_mode": {
    "name": "ipython",
    "version": 3
   },
   "file_extension": ".py",
   "mimetype": "text/x-python",
   "name": "python",
   "nbconvert_exporter": "python",
   "pygments_lexer": "ipython3",
   "version": "3.8.0"
  }
 },
 "nbformat": 4,
 "nbformat_minor": 4
}
